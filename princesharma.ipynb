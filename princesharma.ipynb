{
  "nbformat": 4,
  "nbformat_minor": 0,
  "metadata": {
    "colab": {
      "name": "princesharma.ipynb",
      "provenance": [],
      "machine_shape": "hm"
    },
    "kernelspec": {
      "name": "python3",
      "display_name": "Python 3"
    },
    "language_info": {
      "name": "python"
    },
    "accelerator": "GPU",
    "widgets": {
      "application/vnd.jupyter.widget-state+json": {
        "202a9fa31e4948ceb6a3c738098b5e38": {
          "model_module": "@jupyter-widgets/controls",
          "model_name": "HBoxModel",
          "state": {
            "_view_name": "HBoxView",
            "_dom_classes": [],
            "_model_name": "HBoxModel",
            "_view_module": "@jupyter-widgets/controls",
            "_model_module_version": "1.5.0",
            "_view_count": null,
            "_view_module_version": "1.5.0",
            "box_style": "",
            "layout": "IPY_MODEL_0b4c00e277244987aa4b84abe0ce64b7",
            "_model_module": "@jupyter-widgets/controls",
            "children": [
              "IPY_MODEL_28562ba7705545e1bce69eaa962b3789",
              "IPY_MODEL_5600a504ab704147a754c5a853f0d97e"
            ]
          }
        },
        "0b4c00e277244987aa4b84abe0ce64b7": {
          "model_module": "@jupyter-widgets/base",
          "model_name": "LayoutModel",
          "state": {
            "_view_name": "LayoutView",
            "grid_template_rows": null,
            "right": null,
            "justify_content": null,
            "_view_module": "@jupyter-widgets/base",
            "overflow": null,
            "_model_module_version": "1.2.0",
            "_view_count": null,
            "flex_flow": null,
            "width": null,
            "min_width": null,
            "border": null,
            "align_items": null,
            "bottom": null,
            "_model_module": "@jupyter-widgets/base",
            "top": null,
            "grid_column": null,
            "overflow_y": null,
            "overflow_x": null,
            "grid_auto_flow": null,
            "grid_area": null,
            "grid_template_columns": null,
            "flex": null,
            "_model_name": "LayoutModel",
            "justify_items": null,
            "grid_row": null,
            "max_height": null,
            "align_content": null,
            "visibility": null,
            "align_self": null,
            "height": null,
            "min_height": null,
            "padding": null,
            "grid_auto_rows": null,
            "grid_gap": null,
            "max_width": null,
            "order": null,
            "_view_module_version": "1.2.0",
            "grid_template_areas": null,
            "object_position": null,
            "object_fit": null,
            "grid_auto_columns": null,
            "margin": null,
            "display": null,
            "left": null
          }
        },
        "28562ba7705545e1bce69eaa962b3789": {
          "model_module": "@jupyter-widgets/controls",
          "model_name": "FloatProgressModel",
          "state": {
            "_view_name": "ProgressView",
            "style": "IPY_MODEL_19a98eae5bfc496b96e3c4ac99417e3f",
            "_dom_classes": [],
            "description": "100%",
            "_model_name": "FloatProgressModel",
            "bar_style": "success",
            "max": 167502836,
            "_view_module": "@jupyter-widgets/controls",
            "_model_module_version": "1.5.0",
            "value": 167502836,
            "_view_count": null,
            "_view_module_version": "1.5.0",
            "orientation": "horizontal",
            "min": 0,
            "description_tooltip": null,
            "_model_module": "@jupyter-widgets/controls",
            "layout": "IPY_MODEL_003633d6093c4e21a36ba12f4896c75c"
          }
        },
        "5600a504ab704147a754c5a853f0d97e": {
          "model_module": "@jupyter-widgets/controls",
          "model_name": "HTMLModel",
          "state": {
            "_view_name": "HTMLView",
            "style": "IPY_MODEL_560e2973185141e8bcceb850df50ce22",
            "_dom_classes": [],
            "description": "",
            "_model_name": "HTMLModel",
            "placeholder": "​",
            "_view_module": "@jupyter-widgets/controls",
            "_model_module_version": "1.5.0",
            "value": " 160M/160M [08:25&lt;00:00, 331kB/s]",
            "_view_count": null,
            "_view_module_version": "1.5.0",
            "description_tooltip": null,
            "_model_module": "@jupyter-widgets/controls",
            "layout": "IPY_MODEL_01c77f6139784731bb56473d59db2b48"
          }
        },
        "19a98eae5bfc496b96e3c4ac99417e3f": {
          "model_module": "@jupyter-widgets/controls",
          "model_name": "ProgressStyleModel",
          "state": {
            "_view_name": "StyleView",
            "_model_name": "ProgressStyleModel",
            "description_width": "initial",
            "_view_module": "@jupyter-widgets/base",
            "_model_module_version": "1.5.0",
            "_view_count": null,
            "_view_module_version": "1.2.0",
            "bar_color": null,
            "_model_module": "@jupyter-widgets/controls"
          }
        },
        "003633d6093c4e21a36ba12f4896c75c": {
          "model_module": "@jupyter-widgets/base",
          "model_name": "LayoutModel",
          "state": {
            "_view_name": "LayoutView",
            "grid_template_rows": null,
            "right": null,
            "justify_content": null,
            "_view_module": "@jupyter-widgets/base",
            "overflow": null,
            "_model_module_version": "1.2.0",
            "_view_count": null,
            "flex_flow": null,
            "width": null,
            "min_width": null,
            "border": null,
            "align_items": null,
            "bottom": null,
            "_model_module": "@jupyter-widgets/base",
            "top": null,
            "grid_column": null,
            "overflow_y": null,
            "overflow_x": null,
            "grid_auto_flow": null,
            "grid_area": null,
            "grid_template_columns": null,
            "flex": null,
            "_model_name": "LayoutModel",
            "justify_items": null,
            "grid_row": null,
            "max_height": null,
            "align_content": null,
            "visibility": null,
            "align_self": null,
            "height": null,
            "min_height": null,
            "padding": null,
            "grid_auto_rows": null,
            "grid_gap": null,
            "max_width": null,
            "order": null,
            "_view_module_version": "1.2.0",
            "grid_template_areas": null,
            "object_position": null,
            "object_fit": null,
            "grid_auto_columns": null,
            "margin": null,
            "display": null,
            "left": null
          }
        },
        "560e2973185141e8bcceb850df50ce22": {
          "model_module": "@jupyter-widgets/controls",
          "model_name": "DescriptionStyleModel",
          "state": {
            "_view_name": "StyleView",
            "_model_name": "DescriptionStyleModel",
            "description_width": "",
            "_view_module": "@jupyter-widgets/base",
            "_model_module_version": "1.5.0",
            "_view_count": null,
            "_view_module_version": "1.2.0",
            "_model_module": "@jupyter-widgets/controls"
          }
        },
        "01c77f6139784731bb56473d59db2b48": {
          "model_module": "@jupyter-widgets/base",
          "model_name": "LayoutModel",
          "state": {
            "_view_name": "LayoutView",
            "grid_template_rows": null,
            "right": null,
            "justify_content": null,
            "_view_module": "@jupyter-widgets/base",
            "overflow": null,
            "_model_module_version": "1.2.0",
            "_view_count": null,
            "flex_flow": null,
            "width": null,
            "min_width": null,
            "border": null,
            "align_items": null,
            "bottom": null,
            "_model_module": "@jupyter-widgets/base",
            "top": null,
            "grid_column": null,
            "overflow_y": null,
            "overflow_x": null,
            "grid_auto_flow": null,
            "grid_area": null,
            "grid_template_columns": null,
            "flex": null,
            "_model_name": "LayoutModel",
            "justify_items": null,
            "grid_row": null,
            "max_height": null,
            "align_content": null,
            "visibility": null,
            "align_self": null,
            "height": null,
            "min_height": null,
            "padding": null,
            "grid_auto_rows": null,
            "grid_gap": null,
            "max_width": null,
            "order": null,
            "_view_module_version": "1.2.0",
            "grid_template_areas": null,
            "object_position": null,
            "object_fit": null,
            "grid_auto_columns": null,
            "margin": null,
            "display": null,
            "left": null
          }
        }
      }
    }
  },
  "cells": [
    {
      "cell_type": "code",
      "metadata": {
        "id": "LlpK34VhSwW5"
      },
      "source": [
        "import os\n",
        "import glob\n",
        "import pandas as pd\n",
        "import xml.etree.ElementTree as ET\n",
        "\n",
        "\n",
        "def xml_to_csv(path):\n",
        "    xml_list = []\n",
        "    for xml_file in glob.glob(path + '/*.xml'):\n",
        "        tree = ET.parse(xml_file)\n",
        "        root = tree.getroot()\n",
        "        for member in root.findall('object'):\n",
        "            value = (root.find('filename').text,\n",
        "                     int(root.find('size')[0].text),\n",
        "                     int(root.find('size')[1].text),\n",
        "                     member[0].text,\n",
        "                     int(member[4][0].text),\n",
        "                     int(member[4][1].text),\n",
        "                     int(member[4][2].text),\n",
        "                     int(member[4][3].text)\n",
        "                     )\n",
        "            xml_list.append(value)\n",
        "    column_name = ['image_names', 'width', 'height', 'label', 'xmin', 'ymin', 'xmax', 'ymax']\n",
        "    xml_df = pd.DataFrame(xml_list, columns=column_name)\n",
        "    return xml_df\n",
        "\n",
        "\n",
        "def main():\n",
        "    image_path = os.path.join(os.getcwd(), 'annotations')\n",
        "    xml_df = xml_to_csv(image_path)\n",
        "    xml_df.to_csv('raccoon_labels.csv', index=None)\n",
        "    print('Successfully converted xml to csv.')"
      ],
      "execution_count": 1,
      "outputs": []
    },
    {
      "cell_type": "code",
      "metadata": {
        "id": "QAl8eBbwbalA"
      },
      "source": [
        "path = \"/content/drive/MyDrive/YOLO_V4/xml files\"\n",
        "df = xml_to_csv(path)"
      ],
      "execution_count": 2,
      "outputs": []
    },
    {
      "cell_type": "code",
      "metadata": {
        "colab": {
          "base_uri": "https://localhost:8080/",
          "height": 202
        },
        "id": "cId6uNhabhSB",
        "outputId": "8817a63a-76a8-4c92-f429-b6099bbc4f45"
      },
      "source": [
        "df.head()"
      ],
      "execution_count": 3,
      "outputs": [
        {
          "output_type": "execute_result",
          "data": {
            "text/html": [
              "<div>\n",
              "<style scoped>\n",
              "    .dataframe tbody tr th:only-of-type {\n",
              "        vertical-align: middle;\n",
              "    }\n",
              "\n",
              "    .dataframe tbody tr th {\n",
              "        vertical-align: top;\n",
              "    }\n",
              "\n",
              "    .dataframe thead th {\n",
              "        text-align: right;\n",
              "    }\n",
              "</style>\n",
              "<table border=\"1\" class=\"dataframe\">\n",
              "  <thead>\n",
              "    <tr style=\"text-align: right;\">\n",
              "      <th></th>\n",
              "      <th>image_names</th>\n",
              "      <th>width</th>\n",
              "      <th>height</th>\n",
              "      <th>label</th>\n",
              "      <th>xmin</th>\n",
              "      <th>ymin</th>\n",
              "      <th>xmax</th>\n",
              "      <th>ymax</th>\n",
              "    </tr>\n",
              "  </thead>\n",
              "  <tbody>\n",
              "    <tr>\n",
              "      <th>0</th>\n",
              "      <td>1.jpg</td>\n",
              "      <td>420</td>\n",
              "      <td>600</td>\n",
              "      <td>green</td>\n",
              "      <td>135</td>\n",
              "      <td>113</td>\n",
              "      <td>169</td>\n",
              "      <td>196</td>\n",
              "    </tr>\n",
              "    <tr>\n",
              "      <th>1</th>\n",
              "      <td>1.jpg</td>\n",
              "      <td>420</td>\n",
              "      <td>600</td>\n",
              "      <td>green</td>\n",
              "      <td>205</td>\n",
              "      <td>115</td>\n",
              "      <td>238</td>\n",
              "      <td>196</td>\n",
              "    </tr>\n",
              "    <tr>\n",
              "      <th>2</th>\n",
              "      <td>2.jpg</td>\n",
              "      <td>930</td>\n",
              "      <td>768</td>\n",
              "      <td>green</td>\n",
              "      <td>251</td>\n",
              "      <td>170</td>\n",
              "      <td>304</td>\n",
              "      <td>316</td>\n",
              "    </tr>\n",
              "    <tr>\n",
              "      <th>3</th>\n",
              "      <td>8.jpg</td>\n",
              "      <td>329</td>\n",
              "      <td>220</td>\n",
              "      <td>red</td>\n",
              "      <td>57</td>\n",
              "      <td>108</td>\n",
              "      <td>81</td>\n",
              "      <td>171</td>\n",
              "    </tr>\n",
              "    <tr>\n",
              "      <th>4</th>\n",
              "      <td>8.jpg</td>\n",
              "      <td>329</td>\n",
              "      <td>220</td>\n",
              "      <td>red</td>\n",
              "      <td>275</td>\n",
              "      <td>61</td>\n",
              "      <td>303</td>\n",
              "      <td>131</td>\n",
              "    </tr>\n",
              "  </tbody>\n",
              "</table>\n",
              "</div>"
            ],
            "text/plain": [
              "  image_names  width  height  label  xmin  ymin  xmax  ymax\n",
              "0       1.jpg    420     600  green   135   113   169   196\n",
              "1       1.jpg    420     600  green   205   115   238   196\n",
              "2       2.jpg    930     768  green   251   170   304   316\n",
              "3       8.jpg    329     220    red    57   108    81   171\n",
              "4       8.jpg    329     220    red   275    61   303   131"
            ]
          },
          "metadata": {
            "tags": []
          },
          "execution_count": 3
        }
      ]
    },
    {
      "cell_type": "code",
      "metadata": {
        "id": "fUchKe5Mbi6e"
      },
      "source": [
        "# import required libraries\n",
        "import os\n",
        "import numpy as np\n",
        "import pandas as pd\n",
        "import torch\n",
        "from PIL import Image\n",
        "import matplotlib.pyplot as plt\n",
        "%matplotlib inline\n",
        "import matplotlib.patches as pc\n",
        "\n",
        "from torchvision.models.detection import fasterrcnn_resnet50_fpn\n",
        "from torchvision.models.detection.faster_rcnn import FastRCNNPredictor"
      ],
      "execution_count": 4,
      "outputs": []
    },
    {
      "cell_type": "code",
      "metadata": {
        "colab": {
          "base_uri": "https://localhost:8080/",
          "height": 202
        },
        "id": "Qvs4PaePbsNB",
        "outputId": "f129dcdb-e5e5-4523-dc45-65161b92c713"
      },
      "source": [
        "df.head()"
      ],
      "execution_count": 5,
      "outputs": [
        {
          "output_type": "execute_result",
          "data": {
            "text/html": [
              "<div>\n",
              "<style scoped>\n",
              "    .dataframe tbody tr th:only-of-type {\n",
              "        vertical-align: middle;\n",
              "    }\n",
              "\n",
              "    .dataframe tbody tr th {\n",
              "        vertical-align: top;\n",
              "    }\n",
              "\n",
              "    .dataframe thead th {\n",
              "        text-align: right;\n",
              "    }\n",
              "</style>\n",
              "<table border=\"1\" class=\"dataframe\">\n",
              "  <thead>\n",
              "    <tr style=\"text-align: right;\">\n",
              "      <th></th>\n",
              "      <th>image_names</th>\n",
              "      <th>width</th>\n",
              "      <th>height</th>\n",
              "      <th>label</th>\n",
              "      <th>xmin</th>\n",
              "      <th>ymin</th>\n",
              "      <th>xmax</th>\n",
              "      <th>ymax</th>\n",
              "    </tr>\n",
              "  </thead>\n",
              "  <tbody>\n",
              "    <tr>\n",
              "      <th>0</th>\n",
              "      <td>1.jpg</td>\n",
              "      <td>420</td>\n",
              "      <td>600</td>\n",
              "      <td>green</td>\n",
              "      <td>135</td>\n",
              "      <td>113</td>\n",
              "      <td>169</td>\n",
              "      <td>196</td>\n",
              "    </tr>\n",
              "    <tr>\n",
              "      <th>1</th>\n",
              "      <td>1.jpg</td>\n",
              "      <td>420</td>\n",
              "      <td>600</td>\n",
              "      <td>green</td>\n",
              "      <td>205</td>\n",
              "      <td>115</td>\n",
              "      <td>238</td>\n",
              "      <td>196</td>\n",
              "    </tr>\n",
              "    <tr>\n",
              "      <th>2</th>\n",
              "      <td>2.jpg</td>\n",
              "      <td>930</td>\n",
              "      <td>768</td>\n",
              "      <td>green</td>\n",
              "      <td>251</td>\n",
              "      <td>170</td>\n",
              "      <td>304</td>\n",
              "      <td>316</td>\n",
              "    </tr>\n",
              "    <tr>\n",
              "      <th>3</th>\n",
              "      <td>8.jpg</td>\n",
              "      <td>329</td>\n",
              "      <td>220</td>\n",
              "      <td>red</td>\n",
              "      <td>57</td>\n",
              "      <td>108</td>\n",
              "      <td>81</td>\n",
              "      <td>171</td>\n",
              "    </tr>\n",
              "    <tr>\n",
              "      <th>4</th>\n",
              "      <td>8.jpg</td>\n",
              "      <td>329</td>\n",
              "      <td>220</td>\n",
              "      <td>red</td>\n",
              "      <td>275</td>\n",
              "      <td>61</td>\n",
              "      <td>303</td>\n",
              "      <td>131</td>\n",
              "    </tr>\n",
              "  </tbody>\n",
              "</table>\n",
              "</div>"
            ],
            "text/plain": [
              "  image_names  width  height  label  xmin  ymin  xmax  ymax\n",
              "0       1.jpg    420     600  green   135   113   169   196\n",
              "1       1.jpg    420     600  green   205   115   238   196\n",
              "2       2.jpg    930     768  green   251   170   304   316\n",
              "3       8.jpg    329     220    red    57   108    81   171\n",
              "4       8.jpg    329     220    red   275    61   303   131"
            ]
          },
          "metadata": {
            "tags": []
          },
          "execution_count": 5
        }
      ]
    },
    {
      "cell_type": "code",
      "metadata": {
        "id": "YgIExbYNblYK"
      },
      "source": [
        "# preprocessing data\n",
        "# 1 - red\n",
        "# 2 - yellow\n",
        "# 3 - green\n",
        "# 4 - off\n",
        "data = df\n",
        "data['label'] = data['label'].replace({'red': 1, 'yellow': 2, 'green': 3})\n",
        "data = data.loc[(data['xmax'] > data['xmin'] + 20) | (data['ymax'] > data['ymin'] + 20)]"
      ],
      "execution_count": 6,
      "outputs": []
    },
    {
      "cell_type": "code",
      "metadata": {
        "colab": {
          "base_uri": "https://localhost:8080/"
        },
        "id": "RQVayshxcL3n",
        "outputId": "ccc1b35a-9b45-47c7-9532-f94f33f0d042"
      },
      "source": [
        "len(data)"
      ],
      "execution_count": 7,
      "outputs": [
        {
          "output_type": "execute_result",
          "data": {
            "text/plain": [
              "46"
            ]
          },
          "metadata": {
            "tags": []
          },
          "execution_count": 7
        }
      ]
    },
    {
      "cell_type": "code",
      "metadata": {
        "id": "G25h4arBcWKC"
      },
      "source": [
        "# defining required transformations\n",
        "from torchvision import transforms as TF\n",
        "\n",
        "transform = TF.Compose([\n",
        "    TF.ToTensor()\n",
        "])"
      ],
      "execution_count": 8,
      "outputs": []
    },
    {
      "cell_type": "code",
      "metadata": {
        "id": "hPRami0_cnWV"
      },
      "source": [
        "## convert list of list to tuple\n",
        "def collate_fn(batch):\n",
        "    return tuple(zip(*batch))"
      ],
      "execution_count": 9,
      "outputs": []
    },
    {
      "cell_type": "code",
      "metadata": {
        "id": "fVklyqHEco86"
      },
      "source": [
        "# defining class to load data\n",
        "class TrafficLight(torch.utils.data.Dataset):\n",
        "    def __init__(self, root, transforms=None):\n",
        "        self.root = root\n",
        "        self.transforms = transforms\n",
        "        # load all image files\n",
        "        self.imgs = data.image_names.unique()\n",
        "\n",
        "    def __getitem__(self, idx):\n",
        "        # load images\n",
        "        img_name = self.imgs[idx]\n",
        "        img_path = os.path.join(self.root, img_name)\n",
        "        img = Image.open(img_path)\n",
        "\n",
        "        num_objs = data[data['image_names'] == img_name].shape[0]\n",
        "        boxes = []\n",
        "        label = []\n",
        "        for i in range(num_objs):\n",
        "            xmin = data[data['image_names'] == img_name]['xmin'].iloc[i]\n",
        "            xmax = data[data['image_names'] == img_name]['xmax'].iloc[i]\n",
        "            ymin = data[data['image_names'] == img_name]['ymin'].iloc[i]\n",
        "            ymax = data[data['image_names'] == img_name]['ymax'].iloc[i]\n",
        "            target = data[data['image_names'] == img_name]['label'].iloc[i]\n",
        "            boxes.append([xmin, ymin, xmax, ymax])\n",
        "            label.append(target)\n",
        "\n",
        "        # convert everything into a torch.Tensor\n",
        "        boxes = torch.as_tensor(boxes, dtype=torch.float32)\n",
        "        labels = torch.as_tensor(label, dtype=torch.int64)\n",
        "\n",
        "        target = {}\n",
        "        target[\"boxes\"] = boxes\n",
        "        target[\"labels\"] = labels\n",
        "        if self.transforms is not None:\n",
        "            img = self.transforms(img)\n",
        "        #     boxes[:, 0] = boxes[:, 0] * (224/640)\n",
        "        #     boxes[:, 2] = boxes[:, 2] * (224/640)\n",
        "        #     boxes[:, 1] = boxes[:, 1] * (224/480)\n",
        "        #     boxes[:, 3] = boxes[:, 3] * (224/480)\n",
        "\n",
        "        return img, target\n",
        "\n",
        "    def __len__(self):\n",
        "        return len(self.imgs)"
      ],
      "execution_count": 10,
      "outputs": []
    },
    {
      "cell_type": "code",
      "metadata": {
        "id": "S-O9iATDeQP-"
      },
      "source": [
        "dataset = TrafficLight('/content/drive/MyDrive/YOLO_V4/frames/',transform)"
      ],
      "execution_count": 11,
      "outputs": []
    },
    {
      "cell_type": "code",
      "metadata": {
        "colab": {
          "base_uri": "https://localhost:8080/"
        },
        "id": "Tirh7If_el6X",
        "outputId": "df522f5c-4982-4cb6-b4ba-fcf8053b69b4"
      },
      "source": [
        "dataset"
      ],
      "execution_count": 12,
      "outputs": [
        {
          "output_type": "execute_result",
          "data": {
            "text/plain": [
              "<__main__.TrafficLight at 0x7f2c509aa410>"
            ]
          },
          "metadata": {
            "tags": []
          },
          "execution_count": 12
        }
      ]
    },
    {
      "cell_type": "code",
      "metadata": {
        "id": "z2TfY5ZwenAD"
      },
      "source": [
        "# defining data loader\n",
        "data_loader = torch.utils.data.DataLoader(\n",
        "    dataset, \n",
        "    batch_size=2, \n",
        "    shuffle=False, \n",
        "    collate_fn=collate_fn\n",
        ")"
      ],
      "execution_count": 13,
      "outputs": []
    },
    {
      "cell_type": "code",
      "metadata": {
        "id": "7ltEyCGnerFj"
      },
      "source": [
        "# testing for one iteration\n",
        "for batch_x, batch_y in data_loader:\n",
        "    break"
      ],
      "execution_count": 14,
      "outputs": []
    },
    {
      "cell_type": "code",
      "metadata": {
        "colab": {
          "base_uri": "https://localhost:8080/"
        },
        "id": "GpTTLhp4et52",
        "outputId": "ac72e412-4254-4f7f-9a8b-b2ea1b563e7e"
      },
      "source": [
        "batch_x[0].shape"
      ],
      "execution_count": 15,
      "outputs": [
        {
          "output_type": "execute_result",
          "data": {
            "text/plain": [
              "torch.Size([3, 600, 420])"
            ]
          },
          "metadata": {
            "tags": []
          },
          "execution_count": 15
        }
      ]
    },
    {
      "cell_type": "code",
      "metadata": {
        "colab": {
          "base_uri": "https://localhost:8080/",
          "height": 286
        },
        "id": "J_FYIsOvezCG",
        "outputId": "f4a6e2e3-7005-4868-8452-db47426cd640"
      },
      "source": [
        "plt.imshow(np.transpose(batch_x[0], (1, 2, 0)))"
      ],
      "execution_count": 16,
      "outputs": [
        {
          "output_type": "execute_result",
          "data": {
            "text/plain": [
              "<matplotlib.image.AxesImage at 0x7f2c4df1ec10>"
            ]
          },
          "metadata": {
            "tags": []
          },
          "execution_count": 16
        },
        {
          "output_type": "display_data",
          "data": {
            "image/png": "[encoded data removed]",
            "text/plain": [
              "<Figure size 432x288 with 1 Axes>"
            ]
          },
          "metadata": {
            "tags": [],
            "needs_background": "light"
          }
        }
      ]
    },
    {
      "cell_type": "code",
      "metadata": {
        "colab": {
          "base_uri": "https://localhost:8080/",
          "height": 319
        },
        "id": "Uetbiv5we3yo",
        "outputId": "c4934415-d88b-43af-e44c-aad0f88e09df"
      },
      "source": [
        "# plot bounding box\n",
        "plt.axes()\n",
        "plt.imshow(np.transpose(batch_x[0], (1, 2, 0)))\n",
        "for i in range(len(batch_y[0]['boxes'])):\n",
        "    bbox = batch_y[0]['boxes'][i]\n",
        "    x1, y1 = bbox[0], bbox[1]\n",
        "    x2, y2 = bbox[2], bbox[3]\n",
        "\n",
        "    if batch_y[0]['labels'][i] == 1:\n",
        "        color = 'red'\n",
        "    elif batch_y[0]['labels'][i] == 2:\n",
        "        color = 'yellow'\n",
        "    elif batch_y[0]['labels'][i] == 3:\n",
        "        color = 'green'\n",
        "\n",
        "    rectangle = pc.Rectangle((x1,y1), x2-x1, y2-y1, fc='none',ec=color)\n",
        "    plt.gca().add_patch(rectangle)\n",
        "plt.show()\n",
        "print('num Reds', (batch_y[0]['labels'] == 1).sum())\n",
        "print('num yellow', (batch_y[0]['labels'] == 2).sum())\n",
        "print('num green', (batch_y[0]['labels'] == 3).sum())"
      ],
      "execution_count": 17,
      "outputs": [
        {
          "output_type": "display_data",
          "data": {
            "image/png": "[encoded data removed]",
            "text/plain": [
              "<Figure size 432x288 with 1 Axes>"
            ]
          },
          "metadata": {
            "tags": [],
            "needs_background": "light"
          }
        },
        {
          "output_type": "stream",
          "text": [
            "num Reds tensor(0)\n",
            "num yellow tensor(0)\n",
            "num green tensor(2)\n"
          ],
          "name": "stdout"
        }
      ]
    },
    {
      "cell_type": "markdown",
      "metadata": {
        "id": "EWsY0IRlfQrl"
      },
      "source": [
        "# Defining Model"
      ]
    },
    {
      "cell_type": "code",
      "metadata": {
        "colab": {
          "base_uri": "https://localhost:8080/",
          "height": 102,
          "referenced_widgets": [
            "202a9fa31e4948ceb6a3c738098b5e38",
            "0b4c00e277244987aa4b84abe0ce64b7",
            "28562ba7705545e1bce69eaa962b3789",
            "5600a504ab704147a754c5a853f0d97e",
            "19a98eae5bfc496b96e3c4ac99417e3f",
            "003633d6093c4e21a36ba12f4896c75c",
            "560e2973185141e8bcceb850df50ce22",
            "01c77f6139784731bb56473d59db2b48"
          ]
        },
        "id": "S0yJPgt7gVjG",
        "outputId": "586cab5d-c03f-4f91-c927-f3a87519b000"
      },
      "source": [
        "# define model\n",
        "model = fasterrcnn_resnet50_fpn(pretrained=True)"
      ],
      "execution_count": 18,
      "outputs": [
        {
          "output_type": "stream",
          "text": [
            "Downloading: \"https://download.pytorch.org/models/fasterrcnn_resnet50_fpn_coco-258fb6c6.pth\" to /root/.cache/torch/hub/checkpoints/fasterrcnn_resnet50_fpn_coco-258fb6c6.pth\n"
          ],
          "name": "stderr"
        },
        {
          "output_type": "display_data",
          "data": {
            "application/vnd.jupyter.widget-view+json": {
              "model_id": "202a9fa31e4948ceb6a3c738098b5e38",
              "version_minor": 0,
              "version_major": 2
            },
            "text/plain": [
              "HBox(children=(FloatProgress(value=0.0, max=167502836.0), HTML(value='')))"
            ]
          },
          "metadata": {
            "tags": []
          }
        },
        {
          "output_type": "stream",
          "text": [
            "\n"
          ],
          "name": "stdout"
        }
      ]
    },
    {
      "cell_type": "code",
      "metadata": {
        "colab": {
          "base_uri": "https://localhost:8080/"
        },
        "id": "AgLSMNydgWHL",
        "outputId": "27d47fe0-4361-4b0e-8cfb-6a155d11f581"
      },
      "source": [
        "model"
      ],
      "execution_count": 19,
      "outputs": [
        {
          "output_type": "execute_result",
          "data": {
            "text/plain": [
              "FasterRCNN(\n",
              "  (transform): GeneralizedRCNNTransform(\n",
              "      Normalize(mean=[0.485, 0.456, 0.406], std=[0.229, 0.224, 0.225])\n",
              "      Resize(min_size=(800,), max_size=1333, mode='bilinear')\n",
              "  )\n",
              "  (backbone): BackboneWithFPN(\n",
              "    (body): IntermediateLayerGetter(\n",
              "      (conv1): Conv2d(3, 64, kernel_size=(7, 7), stride=(2, 2), padding=(3, 3), bias=False)\n",
              "      (bn1): FrozenBatchNorm2d(64, eps=0.0)\n",
              "      (relu): ReLU(inplace=True)\n",
              "      (maxpool): MaxPool2d(kernel_size=3, stride=2, padding=1, dilation=1, ceil_mode=False)\n",
              "      (layer1): Sequential(\n",
              "        (0): Bottleneck(\n",
              "          (conv1): Conv2d(64, 64, kernel_size=(1, 1), stride=(1, 1), bias=False)\n",
              "          (bn1): FrozenBatchNorm2d(64, eps=0.0)\n",
              "          (conv2): Conv2d(64, 64, kernel_size=(3, 3), stride=(1, 1), padding=(1, 1), bias=False)\n",
              "          (bn2): FrozenBatchNorm2d(64, eps=0.0)\n",
              "          (conv3): Conv2d(64, 256, kernel_size=(1, 1), stride=(1, 1), bias=False)\n",
              "          (bn3): FrozenBatchNorm2d(256, eps=0.0)\n",
              "          (relu): ReLU(inplace=True)\n",
              "          (downsample): Sequential(\n",
              "            (0): Conv2d(64, 256, kernel_size=(1, 1), stride=(1, 1), bias=False)\n",
              "            (1): FrozenBatchNorm2d(256, eps=0.0)\n",
              "          )\n",
              "        )\n",
              "        (1): Bottleneck(\n",
              "          (conv1): Conv2d(256, 64, kernel_size=(1, 1), stride=(1, 1), bias=False)\n",
              "          (bn1): FrozenBatchNorm2d(64, eps=0.0)\n",
              "          (conv2): Conv2d(64, 64, kernel_size=(3, 3), stride=(1, 1), padding=(1, 1), bias=False)\n",
              "          (bn2): FrozenBatchNorm2d(64, eps=0.0)\n",
              "          (conv3): Conv2d(64, 256, kernel_size=(1, 1), stride=(1, 1), bias=False)\n",
              "          (bn3): FrozenBatchNorm2d(256, eps=0.0)\n",
              "          (relu): ReLU(inplace=True)\n",
              "        )\n",
              "        (2): Bottleneck(\n",
              "          (conv1): Conv2d(256, 64, kernel_size=(1, 1), stride=(1, 1), bias=False)\n",
              "          (bn1): FrozenBatchNorm2d(64, eps=0.0)\n",
              "          (conv2): Conv2d(64, 64, kernel_size=(3, 3), stride=(1, 1), padding=(1, 1), bias=False)\n",
              "          (bn2): FrozenBatchNorm2d(64, eps=0.0)\n",
              "          (conv3): Conv2d(64, 256, kernel_size=(1, 1), stride=(1, 1), bias=False)\n",
              "          (bn3): FrozenBatchNorm2d(256, eps=0.0)\n",
              "          (relu): ReLU(inplace=True)\n",
              "        )\n",
              "      )\n",
              "      (layer2): Sequential(\n",
              "        (0): Bottleneck(\n",
              "          (conv1): Conv2d(256, 128, kernel_size=(1, 1), stride=(1, 1), bias=False)\n",
              "          (bn1): FrozenBatchNorm2d(128, eps=0.0)\n",
              "          (conv2): Conv2d(128, 128, kernel_size=(3, 3), stride=(2, 2), padding=(1, 1), bias=False)\n",
              "          (bn2): FrozenBatchNorm2d(128, eps=0.0)\n",
              "          (conv3): Conv2d(128, 512, kernel_size=(1, 1), stride=(1, 1), bias=False)\n",
              "          (bn3): FrozenBatchNorm2d(512, eps=0.0)\n",
              "          (relu): ReLU(inplace=True)\n",
              "          (downsample): Sequential(\n",
              "            (0): Conv2d(256, 512, kernel_size=(1, 1), stride=(2, 2), bias=False)\n",
              "            (1): FrozenBatchNorm2d(512, eps=0.0)\n",
              "          )\n",
              "        )\n",
              "        (1): Bottleneck(\n",
              "          (conv1): Conv2d(512, 128, kernel_size=(1, 1), stride=(1, 1), bias=False)\n",
              "          (bn1): FrozenBatchNorm2d(128, eps=0.0)\n",
              "          (conv2): Conv2d(128, 128, kernel_size=(3, 3), stride=(1, 1), padding=(1, 1), bias=False)\n",
              "          (bn2): FrozenBatchNorm2d(128, eps=0.0)\n",
              "          (conv3): Conv2d(128, 512, kernel_size=(1, 1), stride=(1, 1), bias=False)\n",
              "          (bn3): FrozenBatchNorm2d(512, eps=0.0)\n",
              "          (relu): ReLU(inplace=True)\n",
              "        )\n",
              "        (2): Bottleneck(\n",
              "          (conv1): Conv2d(512, 128, kernel_size=(1, 1), stride=(1, 1), bias=False)\n",
              "          (bn1): FrozenBatchNorm2d(128, eps=0.0)\n",
              "          (conv2): Conv2d(128, 128, kernel_size=(3, 3), stride=(1, 1), padding=(1, 1), bias=False)\n",
              "          (bn2): FrozenBatchNorm2d(128, eps=0.0)\n",
              "          (conv3): Conv2d(128, 512, kernel_size=(1, 1), stride=(1, 1), bias=False)\n",
              "          (bn3): FrozenBatchNorm2d(512, eps=0.0)\n",
              "          (relu): ReLU(inplace=True)\n",
              "        )\n",
              "        (3): Bottleneck(\n",
              "          (conv1): Conv2d(512, 128, kernel_size=(1, 1), stride=(1, 1), bias=False)\n",
              "          (bn1): FrozenBatchNorm2d(128, eps=0.0)\n",
              "          (conv2): Conv2d(128, 128, kernel_size=(3, 3), stride=(1, 1), padding=(1, 1), bias=False)\n",
              "          (bn2): FrozenBatchNorm2d(128, eps=0.0)\n",
              "          (conv3): Conv2d(128, 512, kernel_size=(1, 1), stride=(1, 1), bias=False)\n",
              "          (bn3): FrozenBatchNorm2d(512, eps=0.0)\n",
              "          (relu): ReLU(inplace=True)\n",
              "        )\n",
              "      )\n",
              "      (layer3): Sequential(\n",
              "        (0): Bottleneck(\n",
              "          (conv1): Conv2d(512, 256, kernel_size=(1, 1), stride=(1, 1), bias=False)\n",
              "          (bn1): FrozenBatchNorm2d(256, eps=0.0)\n",
              "          (conv2): Conv2d(256, 256, kernel_size=(3, 3), stride=(2, 2), padding=(1, 1), bias=False)\n",
              "          (bn2): FrozenBatchNorm2d(256, eps=0.0)\n",
              "          (conv3): Conv2d(256, 1024, kernel_size=(1, 1), stride=(1, 1), bias=False)\n",
              "          (bn3): FrozenBatchNorm2d(1024, eps=0.0)\n",
              "          (relu): ReLU(inplace=True)\n",
              "          (downsample): Sequential(\n",
              "            (0): Conv2d(512, 1024, kernel_size=(1, 1), stride=(2, 2), bias=False)\n",
              "            (1): FrozenBatchNorm2d(1024, eps=0.0)\n",
              "          )\n",
              "        )\n",
              "        (1): Bottleneck(\n",
              "          (conv1): Conv2d(1024, 256, kernel_size=(1, 1), stride=(1, 1), bias=False)\n",
              "          (bn1): FrozenBatchNorm2d(256, eps=0.0)\n",
              "          (conv2): Conv2d(256, 256, kernel_size=(3, 3), stride=(1, 1), padding=(1, 1), bias=False)\n",
              "          (bn2): FrozenBatchNorm2d(256, eps=0.0)\n",
              "          (conv3): Conv2d(256, 1024, kernel_size=(1, 1), stride=(1, 1), bias=False)\n",
              "          (bn3): FrozenBatchNorm2d(1024, eps=0.0)\n",
              "          (relu): ReLU(inplace=True)\n",
              "        )\n",
              "        (2): Bottleneck(\n",
              "          (conv1): Conv2d(1024, 256, kernel_size=(1, 1), stride=(1, 1), bias=False)\n",
              "          (bn1): FrozenBatchNorm2d(256, eps=0.0)\n",
              "          (conv2): Conv2d(256, 256, kernel_size=(3, 3), stride=(1, 1), padding=(1, 1), bias=False)\n",
              "          (bn2): FrozenBatchNorm2d(256, eps=0.0)\n",
              "          (conv3): Conv2d(256, 1024, kernel_size=(1, 1), stride=(1, 1), bias=False)\n",
              "          (bn3): FrozenBatchNorm2d(1024, eps=0.0)\n",
              "          (relu): ReLU(inplace=True)\n",
              "        )\n",
              "        (3): Bottleneck(\n",
              "          (conv1): Conv2d(1024, 256, kernel_size=(1, 1), stride=(1, 1), bias=False)\n",
              "          (bn1): FrozenBatchNorm2d(256, eps=0.0)\n",
              "          (conv2): Conv2d(256, 256, kernel_size=(3, 3), stride=(1, 1), padding=(1, 1), bias=False)\n",
              "          (bn2): FrozenBatchNorm2d(256, eps=0.0)\n",
              "          (conv3): Conv2d(256, 1024, kernel_size=(1, 1), stride=(1, 1), bias=False)\n",
              "          (bn3): FrozenBatchNorm2d(1024, eps=0.0)\n",
              "          (relu): ReLU(inplace=True)\n",
              "        )\n",
              "        (4): Bottleneck(\n",
              "          (conv1): Conv2d(1024, 256, kernel_size=(1, 1), stride=(1, 1), bias=False)\n",
              "          (bn1): FrozenBatchNorm2d(256, eps=0.0)\n",
              "          (conv2): Conv2d(256, 256, kernel_size=(3, 3), stride=(1, 1), padding=(1, 1), bias=False)\n",
              "          (bn2): FrozenBatchNorm2d(256, eps=0.0)\n",
              "          (conv3): Conv2d(256, 1024, kernel_size=(1, 1), stride=(1, 1), bias=False)\n",
              "          (bn3): FrozenBatchNorm2d(1024, eps=0.0)\n",
              "          (relu): ReLU(inplace=True)\n",
              "        )\n",
              "        (5): Bottleneck(\n",
              "          (conv1): Conv2d(1024, 256, kernel_size=(1, 1), stride=(1, 1), bias=False)\n",
              "          (bn1): FrozenBatchNorm2d(256, eps=0.0)\n",
              "          (conv2): Conv2d(256, 256, kernel_size=(3, 3), stride=(1, 1), padding=(1, 1), bias=False)\n",
              "          (bn2): FrozenBatchNorm2d(256, eps=0.0)\n",
              "          (conv3): Conv2d(256, 1024, kernel_size=(1, 1), stride=(1, 1), bias=False)\n",
              "          (bn3): FrozenBatchNorm2d(1024, eps=0.0)\n",
              "          (relu): ReLU(inplace=True)\n",
              "        )\n",
              "      )\n",
              "      (layer4): Sequential(\n",
              "        (0): Bottleneck(\n",
              "          (conv1): Conv2d(1024, 512, kernel_size=(1, 1), stride=(1, 1), bias=False)\n",
              "          (bn1): FrozenBatchNorm2d(512, eps=0.0)\n",
              "          (conv2): Conv2d(512, 512, kernel_size=(3, 3), stride=(2, 2), padding=(1, 1), bias=False)\n",
              "          (bn2): FrozenBatchNorm2d(512, eps=0.0)\n",
              "          (conv3): Conv2d(512, 2048, kernel_size=(1, 1), stride=(1, 1), bias=False)\n",
              "          (bn3): FrozenBatchNorm2d(2048, eps=0.0)\n",
              "          (relu): ReLU(inplace=True)\n",
              "          (downsample): Sequential(\n",
              "            (0): Conv2d(1024, 2048, kernel_size=(1, 1), stride=(2, 2), bias=False)\n",
              "            (1): FrozenBatchNorm2d(2048, eps=0.0)\n",
              "          )\n",
              "        )\n",
              "        (1): Bottleneck(\n",
              "          (conv1): Conv2d(2048, 512, kernel_size=(1, 1), stride=(1, 1), bias=False)\n",
              "          (bn1): FrozenBatchNorm2d(512, eps=0.0)\n",
              "          (conv2): Conv2d(512, 512, kernel_size=(3, 3), stride=(1, 1), padding=(1, 1), bias=False)\n",
              "          (bn2): FrozenBatchNorm2d(512, eps=0.0)\n",
              "          (conv3): Conv2d(512, 2048, kernel_size=(1, 1), stride=(1, 1), bias=False)\n",
              "          (bn3): FrozenBatchNorm2d(2048, eps=0.0)\n",
              "          (relu): ReLU(inplace=True)\n",
              "        )\n",
              "        (2): Bottleneck(\n",
              "          (conv1): Conv2d(2048, 512, kernel_size=(1, 1), stride=(1, 1), bias=False)\n",
              "          (bn1): FrozenBatchNorm2d(512, eps=0.0)\n",
              "          (conv2): Conv2d(512, 512, kernel_size=(3, 3), stride=(1, 1), padding=(1, 1), bias=False)\n",
              "          (bn2): FrozenBatchNorm2d(512, eps=0.0)\n",
              "          (conv3): Conv2d(512, 2048, kernel_size=(1, 1), stride=(1, 1), bias=False)\n",
              "          (bn3): FrozenBatchNorm2d(2048, eps=0.0)\n",
              "          (relu): ReLU(inplace=True)\n",
              "        )\n",
              "      )\n",
              "    )\n",
              "    (fpn): FeaturePyramidNetwork(\n",
              "      (inner_blocks): ModuleList(\n",
              "        (0): Conv2d(256, 256, kernel_size=(1, 1), stride=(1, 1))\n",
              "        (1): Conv2d(512, 256, kernel_size=(1, 1), stride=(1, 1))\n",
              "        (2): Conv2d(1024, 256, kernel_size=(1, 1), stride=(1, 1))\n",
              "        (3): Conv2d(2048, 256, kernel_size=(1, 1), stride=(1, 1))\n",
              "      )\n",
              "      (layer_blocks): ModuleList(\n",
              "        (0): Conv2d(256, 256, kernel_size=(3, 3), stride=(1, 1), padding=(1, 1))\n",
              "        (1): Conv2d(256, 256, kernel_size=(3, 3), stride=(1, 1), padding=(1, 1))\n",
              "        (2): Conv2d(256, 256, kernel_size=(3, 3), stride=(1, 1), padding=(1, 1))\n",
              "        (3): Conv2d(256, 256, kernel_size=(3, 3), stride=(1, 1), padding=(1, 1))\n",
              "      )\n",
              "      (extra_blocks): LastLevelMaxPool()\n",
              "    )\n",
              "  )\n",
              "  (rpn): RegionProposalNetwork(\n",
              "    (anchor_generator): AnchorGenerator()\n",
              "    (head): RPNHead(\n",
              "      (conv): Conv2d(256, 256, kernel_size=(3, 3), stride=(1, 1), padding=(1, 1))\n",
              "      (cls_logits): Conv2d(256, 3, kernel_size=(1, 1), stride=(1, 1))\n",
              "      (bbox_pred): Conv2d(256, 12, kernel_size=(1, 1), stride=(1, 1))\n",
              "    )\n",
              "  )\n",
              "  (roi_heads): RoIHeads(\n",
              "    (box_roi_pool): MultiScaleRoIAlign(featmap_names=['0', '1', '2', '3'], output_size=(7, 7), sampling_ratio=2)\n",
              "    (box_head): TwoMLPHead(\n",
              "      (fc6): Linear(in_features=12544, out_features=1024, bias=True)\n",
              "      (fc7): Linear(in_features=1024, out_features=1024, bias=True)\n",
              "    )\n",
              "    (box_predictor): FastRCNNPredictor(\n",
              "      (cls_score): Linear(in_features=1024, out_features=91, bias=True)\n",
              "      (bbox_pred): Linear(in_features=1024, out_features=364, bias=True)\n",
              "    )\n",
              "  )\n",
              ")"
            ]
          },
          "metadata": {
            "tags": []
          },
          "execution_count": 19
        }
      ]
    },
    {
      "cell_type": "code",
      "metadata": {
        "id": "7wSEKuVGgYv3"
      },
      "source": [
        "num_classes = 4\n",
        "\n",
        "# get number of input features for the classifier\n",
        "in_features = model.roi_heads.box_predictor.cls_score.in_features\n",
        "\n",
        "# replace the pre-trained head with a new one\n",
        "model.roi_heads.box_predictor = FastRCNNPredictor(in_features, num_classes)"
      ],
      "execution_count": 20,
      "outputs": []
    },
    {
      "cell_type": "code",
      "metadata": {
        "colab": {
          "base_uri": "https://localhost:8080/"
        },
        "id": "2Pt8tGfHgfCZ",
        "outputId": "e6a8e75c-7f63-4de4-ea1e-73e340b0f857"
      },
      "source": [
        "# check model on one image\n",
        "model.eval()\n",
        "output = model(batch_x[0].view(1,3, 600, 420))"
      ],
      "execution_count": 21,
      "outputs": [
        {
          "output_type": "stream",
          "text": [
            "/usr/local/lib/python3.7/dist-packages/torch/nn/functional.py:718: UserWarning: Named tensors and all their associated APIs are an experimental feature and subject to change. Please do not use them for anything important until they are released as stable. (Triggered internally at  /pytorch/c10/core/TensorImpl.h:1156.)\n",
            "  return torch.max_pool2d(input, kernel_size, stride, padding, dilation, ceil_mode)\n"
          ],
          "name": "stderr"
        }
      ]
    },
    {
      "cell_type": "code",
      "metadata": {
        "colab": {
          "base_uri": "https://localhost:8080/"
        },
        "id": "GtNHObBwghvF",
        "outputId": "51bae0cb-84e3-4b36-eacb-2b0865dec2fc"
      },
      "source": [
        "output"
      ],
      "execution_count": 22,
      "outputs": [
        {
          "output_type": "execute_result",
          "data": {
            "text/plain": [
              "[{'boxes': tensor([[163.4711, 363.1945, 221.7647, 410.0775],\n",
              "          [146.7131, 383.5152, 200.9039, 402.7621],\n",
              "          [211.7021, 377.2172, 254.5233, 396.4005],\n",
              "          [169.7955, 382.0034, 228.6478, 401.4789],\n",
              "          [192.8444, 371.0617, 238.6927, 391.0556],\n",
              "          [146.4970, 380.2745, 260.5302, 405.5907],\n",
              "          [218.4498, 379.9023, 269.1192, 400.3628],\n",
              "          [ 65.5771, 323.8354, 409.8569, 375.3132],\n",
              "          [175.2631, 376.4001, 199.4255, 405.3606],\n",
              "          [271.5200, 377.8068, 296.0322, 404.8238],\n",
              "          [187.6213, 374.9502, 232.1698, 399.0008],\n",
              "          [335.0818, 380.9859, 340.3562, 388.3270],\n",
              "          [ 29.4965, 349.1500, 325.4748, 399.4279],\n",
              "          [ 70.8786, 117.2191, 245.2390, 191.0581],\n",
              "          [208.8378, 334.2829, 228.4993, 388.9149],\n",
              "          [198.3040, 340.4511, 362.8507, 365.0084],\n",
              "          [188.9676, 349.9637, 341.5329, 372.4685],\n",
              "          [261.3859, 317.9013, 316.4895, 514.1832],\n",
              "          [174.2731, 340.9769, 215.5499, 404.8603],\n",
              "          [281.5476, 376.4336, 308.3743, 486.5171],\n",
              "          [156.7825, 288.9461, 353.3178, 437.8725],\n",
              "          [280.9533, 420.7746, 296.4530, 481.2708],\n",
              "          [ 42.8660, 300.6040, 216.1503, 448.2239],\n",
              "          [105.8248, 324.5494, 122.6732, 377.9068],\n",
              "          [224.6402, 382.2092, 233.4690, 391.8670],\n",
              "          [193.1763, 384.0606, 248.1438, 400.2577],\n",
              "          [168.7409, 336.7406, 354.4597, 482.5852],\n",
              "          [191.6408, 338.0260, 217.3414, 391.6570],\n",
              "          [194.8869, 330.5556, 230.5720, 398.0096],\n",
              "          [224.9611, 386.8212, 234.2333, 395.0030],\n",
              "          [129.9248, 360.5505, 216.6429, 388.8599],\n",
              "          [ 91.0924, 104.7555, 217.6451, 228.2271],\n",
              "          [ 93.5130, 295.7190, 252.8439, 426.6700],\n",
              "          [228.4159, 371.9542, 257.5939, 395.6782],\n",
              "          [225.5058, 372.2023, 246.4269, 401.6342],\n",
              "          [228.9276, 380.9420, 350.7838, 407.7623],\n",
              "          [221.8893, 341.9893, 277.0256, 362.6999],\n",
              "          [329.2820, 485.9290, 394.9246, 498.7502],\n",
              "          [ 45.6645, 336.0804, 420.0000, 451.0933],\n",
              "          [269.9531, 381.7301, 323.5978, 400.4005],\n",
              "          [267.6674, 369.8581, 294.5375, 397.4164],\n",
              "          [249.9865, 487.0829, 420.0000, 506.6846],\n",
              "          [205.3633, 319.0900, 225.2308, 378.1784],\n",
              "          [226.3264, 385.6040, 242.8317, 394.7195],\n",
              "          [ 40.5568, 307.6908, 335.1203, 366.4962],\n",
              "          [148.9018, 336.2223, 194.6648, 402.7376],\n",
              "          [217.8715, 303.4955, 287.0406, 363.4658],\n",
              "          [161.8601, 374.1842, 308.8409, 400.5259],\n",
              "          [336.9852, 382.6830, 342.7253, 389.5159],\n",
              "          [257.3350, 343.3968, 298.7170, 360.3177],\n",
              "          [ 96.1955, 325.2525, 115.1035, 376.0323],\n",
              "          [147.9777, 368.6344, 420.0000, 426.9812],\n",
              "          [153.5601, 362.7788, 273.2134, 390.7284],\n",
              "          [223.0748, 379.4702, 231.9599, 389.7623],\n",
              "          [277.2458, 376.0719, 304.9657, 401.9237],\n",
              "          [156.5508, 291.7360, 408.2809, 359.7093],\n",
              "          [ 89.2349, 381.0399, 242.7068, 402.1549],\n",
              "          [153.4508, 386.5195, 308.1805, 412.4825],\n",
              "          [338.7740, 380.1795, 352.2376, 394.1056],\n",
              "          [138.5789, 368.3167, 246.2345, 398.3557],\n",
              "          [170.7530, 362.8182, 233.4357, 387.0663],\n",
              "          [224.5950, 375.6631, 242.5664, 392.3024],\n",
              "          [ 75.6616, 319.9274, 133.5807, 383.4500],\n",
              "          [270.6731, 377.3607, 343.1969, 394.6975],\n",
              "          [ 33.6676, 371.1405, 333.8742, 415.8683],\n",
              "          [224.5944, 321.4873, 298.6952, 375.6057],\n",
              "          [338.2131, 385.1331, 342.8072, 393.7429],\n",
              "          [131.6727, 391.0544, 199.1452, 405.8364],\n",
              "          [ 84.4607, 393.6045, 220.7614, 419.9799],\n",
              "          [ 46.8402, 290.5399, 420.0000, 406.9676],\n",
              "          [ 35.5234, 381.1693, 365.3855, 437.9717],\n",
              "          [ 55.7465, 107.7700, 237.8923, 508.4045],\n",
              "          [304.2621, 372.2268, 349.3696, 388.2824],\n",
              "          [177.9202, 362.0486, 338.0599, 383.8647],\n",
              "          [265.9814, 388.8749, 300.3956, 488.0309],\n",
              "          [221.2592, 253.3807, 301.0590, 444.2180],\n",
              "          [232.0995, 381.5247, 299.6988, 434.3418],\n",
              "          [221.4538, 386.0797, 322.0257, 417.7999],\n",
              "          [139.8206, 394.3718, 286.1737, 417.5106],\n",
              "          [334.0975, 491.8620, 388.3273, 508.3139],\n",
              "          [224.0845, 327.4225, 263.8638, 362.6451],\n",
              "          [318.2971,  92.0711, 414.5605, 533.8931],\n",
              "          [207.1110, 380.6715, 420.0000, 445.4852],\n",
              "          [265.3119, 377.5652, 407.2714, 399.5975],\n",
              "          [225.9006, 363.3063, 401.3309, 385.6932],\n",
              "          [168.8175, 391.6455, 215.9895, 407.0830],\n",
              "          [219.2531, 125.6907, 241.0694, 193.9198],\n",
              "          [140.4570, 108.9884, 171.9552, 192.8176],\n",
              "          [154.6135, 349.5625, 420.0000, 405.9953],\n",
              "          [ 11.5878, 244.6505,  92.5089, 437.8138],\n",
              "          [262.6273, 387.2006, 393.8990, 414.5412],\n",
              "          [290.6121, 226.9365, 345.3291, 243.3122],\n",
              "          [172.5553, 373.0791, 208.7508, 398.6378],\n",
              "          [135.7679, 132.3950, 238.6538, 183.2816],\n",
              "          [202.1232, 166.9001, 344.3872, 557.3679],\n",
              "          [288.3785, 278.0222, 353.7464, 502.5147],\n",
              "          [267.0294, 331.9595, 293.9596, 357.3665],\n",
              "          [355.2829, 251.8052, 389.4275, 394.0916],\n",
              "          [ 81.6060, 298.8929, 102.9171, 347.0196],\n",
              "          [204.2435, 375.9575, 230.4183, 393.5235]], grad_fn=<StackBackward>),\n",
              "  'labels': tensor([3, 3, 3, 3, 3, 3, 3, 3, 3, 3, 3, 3, 3, 3, 3, 3, 3, 3, 3, 3, 3, 3, 3, 3,\n",
              "          3, 3, 3, 3, 3, 3, 3, 3, 3, 3, 3, 3, 3, 3, 3, 3, 3, 3, 3, 3, 3, 3, 3, 3,\n",
              "          3, 3, 3, 3, 3, 3, 3, 3, 3, 3, 3, 3, 3, 3, 3, 3, 3, 3, 3, 3, 3, 3, 3, 3,\n",
              "          3, 3, 3, 3, 3, 3, 3, 3, 3, 3, 3, 3, 3, 3, 1, 1, 3, 3, 3, 3, 3, 3, 3, 3,\n",
              "          3, 3, 1, 3]),\n",
              "  'scores': tensor([0.5855, 0.5461, 0.5386, 0.5271, 0.5198, 0.5162, 0.5159, 0.5051, 0.5026,\n",
              "          0.4980, 0.4938, 0.4879, 0.4877, 0.4868, 0.4839, 0.4822, 0.4785, 0.4779,\n",
              "          0.4774, 0.4765, 0.4761, 0.4746, 0.4737, 0.4734, 0.4722, 0.4715, 0.4699,\n",
              "          0.4692, 0.4690, 0.4673, 0.4671, 0.4669, 0.4649, 0.4646, 0.4635, 0.4621,\n",
              "          0.4618, 0.4607, 0.4592, 0.4586, 0.4582, 0.4518, 0.4495, 0.4488, 0.4484,\n",
              "          0.4477, 0.4465, 0.4464, 0.4449, 0.4435, 0.4422, 0.4420, 0.4407, 0.4407,\n",
              "          0.4401, 0.4381, 0.4376, 0.4366, 0.4364, 0.4359, 0.4358, 0.4355, 0.4345,\n",
              "          0.4334, 0.4334, 0.4333, 0.4332, 0.4332, 0.4318, 0.4309, 0.4307, 0.4304,\n",
              "          0.4295, 0.4295, 0.4260, 0.4256, 0.4256, 0.4253, 0.4251, 0.4237, 0.4234,\n",
              "          0.4228, 0.4227, 0.4227, 0.4227, 0.4225, 0.4225, 0.4224, 0.4223, 0.4203,\n",
              "          0.4203, 0.4198, 0.4192, 0.4191, 0.4184, 0.4175, 0.4166, 0.4160, 0.4160,\n",
              "          0.4149], grad_fn=<IndexBackward>)}]"
            ]
          },
          "metadata": {
            "tags": []
          },
          "execution_count": 22
        }
      ]
    }
  ]
}